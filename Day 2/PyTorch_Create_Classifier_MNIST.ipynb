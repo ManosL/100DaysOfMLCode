{
 "cells": [
  {
   "cell_type": "markdown",
   "metadata": {},
   "source": [
    "<center><h1>PyTorch Intro</h1></center>\n",
    "\n",
    "<h2>Training a MNIST Classifier</h2>\n",
    "\n",
    "In this notebook we will train a classifier that will classify images of the MNIST dataset. This dataset contains 28x28 pixel, 1-channel(grayscale) pictures that are labeled as one of the 10 digits.\n",
    "\n",
    "Initially, we will import the libraries that we will use in order to load the data."
   ]
  },
  {
   "cell_type": "code",
   "execution_count": 51,
   "metadata": {},
   "outputs": [],
   "source": [
    "import torch\n",
    "import torchvision     #Contains the necessary datasets\n",
    "import torchvision.transforms as transforms #It is used to apply simple preprocessing steps into the dataset"
   ]
  },
  {
   "cell_type": "markdown",
   "metadata": {},
   "source": [
    "\n",
    "<h2>Preprocessing</h2>\n"
   ]
  },
  {
   "cell_type": "code",
   "execution_count": 52,
   "metadata": {},
   "outputs": [],
   "source": [
    "# Writing my own transform DivX that will divide a tensor by X\n",
    "# I do not need it because everything is normalized\n",
    "class DivX(object):\n",
    "    def __init__(self, factor):\n",
    "        self.factor = factor\n",
    "    \n",
    "    def __call__(self, sample):\n",
    "        return torch.div(sample, self.factor)\n",
    "    \n",
    "# Defining transformation\n",
    "transform = transforms.Compose([\n",
    "    transforms.ToTensor()\n",
    "    #DivX(255)\n",
    "])\n",
    "\n",
    "# Loading the dataset\n",
    "trainset = torchvision.datasets.MNIST(root=\"./data\", train=True, \n",
    "                                       download=True, transform=transform)\n",
    "\n",
    "# Creating a DataLoader for that dataset.\n",
    "# DataLoader is an iteratable that will help us train\n",
    "# our classifier and get our batches automatically\n",
    "\n",
    "trainloader = torch.utils.data.DataLoader(trainset, batch_size=4,\n",
    "                                        shuffle=True, num_workers=2)\n",
    "\n",
    "# Doing the same to create a test set\n",
    "testset = torchvision.datasets.MNIST(root='./data', train=False,\n",
    "                                       download=True, transform=transform)\n",
    "\n",
    "testloader = torch.utils.data.DataLoader(testset, batch_size=4,\n",
    "                                         shuffle=False, num_workers=2)\n",
    "\n",
    "classes = (0,1,2,3,4,5,6,7,8,9)"
   ]
  },
  {
   "cell_type": "markdown",
   "metadata": {},
   "source": [
    "\n",
    "Now we will print some images\n"
   ]
  },
  {
   "cell_type": "markdown",
   "metadata": {},
   "source": [
    "\n",
    "<h2> Creating our network </h2>\n",
    "\n",
    "Now we will create our convolutional neural network.\n",
    "\n",
    "In order to create a neural network in PyTorch we should define a class that inherits <code>nn.Module</code> class and implements the contructor and the forward method."
   ]
  },
  {
   "cell_type": "code",
   "execution_count": 53,
   "metadata": {},
   "outputs": [
    {
     "name": "stdout",
     "output_type": "stream",
     "text": [
      "cuda:0\n"
     ]
    },
    {
     "data": {
      "text/plain": [
       "Net(\n",
       "  (conv1): Conv2d(1, 4, kernel_size=(3, 3), stride=(1, 1))\n",
       "  (pool1): MaxPool2d(kernel_size=(2, 2), stride=(2, 2), padding=0, dilation=1, ceil_mode=False)\n",
       "  (conv2): Conv2d(4, 8, kernel_size=(3, 3), stride=(1, 1))\n",
       "  (pool2): MaxPool2d(kernel_size=(2, 2), stride=(2, 2), padding=0, dilation=1, ceil_mode=False)\n",
       "  (fc1): Linear(in_features=200, out_features=50, bias=True)\n",
       "  (fc3): Linear(in_features=50, out_features=10, bias=True)\n",
       ")"
      ]
     },
     "execution_count": 53,
     "metadata": {},
     "output_type": "execute_result"
    }
   ],
   "source": [
    "import torch.nn as nn\n",
    "import torch.nn.functional as F\n",
    "\n",
    "class Net(nn.Module):\n",
    "    def __init__(self):\n",
    "        super(Net, self).__init__()\n",
    "        \n",
    "        # 1st arg = input channels, 2nd arg = output channels\n",
    "        # 3rd arg = kernel size\n",
    "        self.conv1 = nn.Conv2d(1, 4, (3,3))\n",
    "        \n",
    "        # There we define only kernel size\n",
    "        self.pool1 = nn.MaxPool2d((2,2))\n",
    "        self.conv2 = nn.Conv2d(4, 8, (3,3))\n",
    "        self.pool2 = nn.MaxPool2d((2,2))\n",
    "        \n",
    "        # Now we will have the fully connected layers\n",
    "        # Because in PyTorch there is not any flatten layer\n",
    "        # we should compute the number of the input features \n",
    "        # of the flatten layer ourselves or do some computations.\n",
    "        \n",
    "        self.fc1 = nn.Linear(8 * 5 * 5, 50)\n",
    "        self.fc3 = nn.Linear(50, 10)\n",
    "    \n",
    "    # x is the input batch\n",
    "    # just passes x through networks operations\n",
    "    def forward(self, x):\n",
    "        x = self.pool1(F.relu(self.conv1(x)))\n",
    "        x = self.pool2(F.relu(self.conv2(x)))\n",
    "        \n",
    "        x = x.view(-1, 8 * 5 * 5)\n",
    "        x = F.relu(self.fc1(x))\n",
    "        x = F.softmax(self.fc3(x), dim=1)\n",
    "        \n",
    "        return x\n",
    "\n",
    "net = Net()\n",
    "\n",
    "#in order to use cuda\n",
    "device = torch.device(\"cuda:0\" if torch.cuda.is_available() else \"cpu\")\n",
    "\n",
    "# Assuming that we are on a CUDA machine, this should print a CUDA device:\n",
    "\n",
    "print(device)\n",
    "net.to(device)"
   ]
  },
  {
   "cell_type": "markdown",
   "metadata": {},
   "source": [
    "\n",
    "After creating our network we should define our loss function and optimizer.\n"
   ]
  },
  {
   "cell_type": "code",
   "execution_count": 54,
   "metadata": {},
   "outputs": [],
   "source": [
    "import torch.optim as optim\n",
    "\n",
    "criterion = nn.CrossEntropyLoss()\n",
    "optimizer = optim.Adam(net.parameters(), lr=0.0001)"
   ]
  },
  {
   "cell_type": "markdown",
   "metadata": {},
   "source": [
    "<h2>Training the Network</h2>\n",
    "\n",
    "In this section we will just iterate through the data loader and we will incrementally train our network"
   ]
  },
  {
   "cell_type": "code",
   "execution_count": 56,
   "metadata": {},
   "outputs": [
    {
     "name": "stdout",
     "output_type": "stream",
     "text": [
      "Epoch 0  Loss: 1.4611575603485107\n",
      "Epoch 1  Loss: 1.4611539840698242\n",
      "Epoch 2  Loss: 1.4629478454589844\n",
      "Epoch 3  Loss: 1.464242935180664\n",
      "Epoch 4  Loss: 1.4611505270004272\n",
      "Epoch 5  Loss: 1.4611502885818481\n",
      "Epoch 6  Loss: 1.4611501693725586\n",
      "Epoch 7  Loss: 1.5769009590148926\n",
      "Epoch 8  Loss: 1.461165428161621\n",
      "Epoch 9  Loss: 1.4612427949905396\n"
     ]
    }
   ],
   "source": [
    "num_epochs = 10\n",
    "\n",
    "for i in range(num_epochs):\n",
    "    running_loss = 0\n",
    "    \n",
    "    for curr_batch in trainloader:\n",
    "        vectors, labels = curr_batch[0].to(device), curr_batch[1].to(device)\n",
    "        \n",
    "        optimizer.zero_grad() # we will just make zero the gradients of optimizer\n",
    "        \n",
    "        outputs = net.forward(vectors) # we will do the forward pass for the current batch\n",
    "        \n",
    "        # Computing the loss\n",
    "        loss    = criterion(outputs, labels)\n",
    "        \n",
    "        #Doing backward pass\n",
    "        loss.backward()\n",
    "        optimizer.step()\n",
    "        \n",
    "        running_loss = loss.item()\n",
    "    \n",
    "    print(\"Epoch\", i, \" Loss:\", running_loss)\n",
    "    \n",
    "# In order to save our model\n",
    "# PATH = './mnist_net.pth'\n",
    "# torch.save(net.state_dict(), PATH)"
   ]
  },
  {
   "cell_type": "markdown",
   "metadata": {},
   "source": [
    " <h2>Testing the network</h2>\n",
    " \n",
    " We should just loop through the train set and get the network's outputs."
   ]
  },
  {
   "cell_type": "code",
   "execution_count": 57,
   "metadata": {},
   "outputs": [
    {
     "name": "stdout",
     "output_type": "stream",
     "text": [
      "Accuracy is 97.85000000000001 per cent\n"
     ]
    }
   ],
   "source": [
    "correct_preds = 0\n",
    "all_preds     = 0\n",
    "\n",
    "for curr_batch in testloader:\n",
    "    vectors, labels = curr_batch[0].to(device), curr_batch[1].to(device)\n",
    "    \n",
    "    predictions = torch.argmax(net(vectors), dim=1)\n",
    "    \n",
    "    all_preds     += predictions.size(0)\n",
    "    correct_preds += (predictions == labels).sum().item()\n",
    "\n",
    "print(\"Accuracy is\", (correct_preds / all_preds) * 100, \"per cent\")"
   ]
  },
  {
   "cell_type": "markdown",
   "metadata": {},
   "source": [
    "<h2>Conclusion</h2>\n",
    "\n",
    "I developed a fully-functional MNIST Classifier. In this classifier we can see that even with a simple convolutional network we get a pretty good accuracy."
   ]
  }
 ],
 "metadata": {
  "kernelspec": {
   "display_name": "Python 3",
   "language": "python",
   "name": "python3"
  },
  "language_info": {
   "codemirror_mode": {
    "name": "ipython",
    "version": 3
   },
   "file_extension": ".py",
   "mimetype": "text/x-python",
   "name": "python",
   "nbconvert_exporter": "python",
   "pygments_lexer": "ipython3",
   "version": "3.7.4"
  }
 },
 "nbformat": 4,
 "nbformat_minor": 2
}
