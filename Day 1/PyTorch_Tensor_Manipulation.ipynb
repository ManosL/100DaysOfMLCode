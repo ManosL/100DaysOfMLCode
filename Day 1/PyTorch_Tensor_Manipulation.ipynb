{
 "cells": [
  {
   "cell_type": "markdown",
   "metadata": {},
   "source": [
    "<center><h1>Pytorch Intro</h1></center>\n",
    "\n",
    "<h2>Tensors Handling</h2>\n",
    "\n",
    "Firstly, we import the library"
   ]
  },
  {
   "cell_type": "code",
   "execution_count": 1,
   "metadata": {},
   "outputs": [],
   "source": [
    "import torch\n",
    "import numpy as np"
   ]
  },
  {
   "cell_type": "markdown",
   "metadata": {},
   "source": [
    "Afterwards we do some operations"
   ]
  },
  {
   "cell_type": "code",
   "execution_count": 2,
   "metadata": {},
   "outputs": [
    {
     "name": "stdout",
     "output_type": "stream",
     "text": [
      "Empty Tensor= tensor([[6.9674e+252, 3.5825e+246, 2.6306e+267],\n",
      "        [7.0738e+194, 2.6825e-260,  2.1632e-27],\n",
      "        [ 1.8773e-09, 2.3253e+251, 2.5840e+161]], dtype=torch.float64)\n",
      "\n",
      "tensor([[0.],\n",
      "        [0.],\n",
      "        [0.],\n",
      "        [0.]], dtype=torch.float64)\n",
      "\n",
      "tensor([[1., 1., 1., 1.],\n",
      "        [1., 1., 1., 1.],\n",
      "        [1., 1., 1., 1.]], dtype=torch.float64)\n",
      "\n",
      "tensor([[0.],\n",
      "        [0.],\n",
      "        [0.]], dtype=torch.float64)\n",
      "torch.Size([3, 1])\n",
      "\n",
      "tensor([[ 1, 23],\n",
      "        [ 3, 45]])\n",
      "\n",
      "Tensor 4 numpy type= <class 'numpy.ndarray'>\n",
      "\n",
      "Tensor 4 torch type= <class 'torch.Tensor'>\n",
      "Are equal= True\n"
     ]
    }
   ],
   "source": [
    "#Creating an empty(uninitialized) 3x3 tensor\n",
    "tensor1 = torch.empty((3,3), dtype=torch.double) # Can be also written without the tuple\n",
    "print('Empty Tensor=', tensor1)\n",
    "\n",
    "#Creating 4D column tensor of zeros\n",
    "tensor2 = torch.zeros(4,1, dtype=torch.double)\n",
    "print()\n",
    "print(tensor2)\n",
    "\n",
    "#Creating 3x4 tensor of ones\n",
    "tensor3 = torch.ones(3,4, dtype=torch.double)\n",
    "print()\n",
    "print(tensor3)\n",
    "\n",
    "#Multiplying tensor3 and tensor4 like in linear algebra\n",
    "#(should result a 3x1 tensor), mul does element wise multiplication\n",
    "# or with a scalar\n",
    "tensor4 = torch.matmul(tensor3, tensor2)\n",
    "print()\n",
    "print(tensor4)\n",
    "print(tensor4.size())\n",
    "\n",
    "#Converting a list of lists to tensor\n",
    "print()\n",
    "print(torch.tensor([[1,23],[3,45]]))\n",
    "\n",
    "#Converting a tensor to numpy array\n",
    "print()\n",
    "tensor4_np = tensor4.numpy()\n",
    "print('Tensor 4 numpy type=', type(tensor4_np))\n",
    "\n",
    "#Converting a numpy array to tensor\n",
    "print()\n",
    "tensor4_torch = torch.from_numpy(tensor4_np)\n",
    "print('Tensor 4 torch type=', type(tensor4_torch))\n",
    "print('Are equal=', torch.equal(tensor4_torch, tensor4))"
   ]
  },
  {
   "cell_type": "markdown",
   "metadata": {},
   "source": [
    "Now that we saw some basic operation we will implement some vector functions"
   ]
  },
  {
   "cell_type": "code",
   "execution_count": 3,
   "metadata": {},
   "outputs": [
    {
     "name": "stdout",
     "output_type": "stream",
     "text": [
      "Dot product is 40\n",
      "Square tensor is tensor([ 4,  1, 16, 36])\n",
      "R^2 is 1.0\n"
     ]
    }
   ],
   "source": [
    "def dot_product(t1, t2):\n",
    "    return int(torch.matmul(t1, t2))\n",
    "\n",
    "def square_vector(t):\n",
    "    return torch.mul(t, t)\n",
    "\n",
    "def r2_score(y_true, y_pred):\n",
    "    # SS_res = Sum_i((y_true_i - y_pred_i)^2)\n",
    "    # alpha is the scalar of 2nd arg\n",
    "    # You can use torch.square\n",
    "    SS_res = torch.sum(torch.square(torch.sub(y_true, y_pred, alpha=1)))\n",
    "    # SS_tot = Sum_i((y_true_i - mean(y_true))^2)\n",
    "    SS_tot = torch.sum(square_vector(torch.sub(y_true, torch.mean(y_true))))\n",
    "    \n",
    "    return float(1 - (SS_res / SS_tot))\n",
    "\n",
    "#Testing\n",
    "t1 = torch.tensor([2,1,4,6])\n",
    "t2 = torch.tensor([1,2,3,4])\n",
    "\n",
    "#Should be 40\n",
    "print('Dot product is', dot_product(t1, t2))\n",
    "\n",
    "# Should be [4,1,16,36]\n",
    "print('Square tensor is', square_vector(t1))\n",
    "\n",
    "t1 = torch.tensor([2,3,2,2], dtype=torch.double)\n",
    "t2 = torch.tensor([2,3,2,2], dtype=torch.double)\n",
    "print('R^2 is', r2_score(t1, t2))"
   ]
  },
  {
   "cell_type": "markdown",
   "metadata": {},
   "source": [
    "\n",
    "Note that, that we wrote different functions using tensor operations other than\n",
    "the ones that we presented to the 2<sup>nd</sup> cell.\n",
    "So, anytime you want to do something specific with tensors look in the documentation\n",
    "at https://pytorch.org/docs/stable/torch.html."
   ]
  }
 ],
 "metadata": {
  "kernelspec": {
   "display_name": "Python 3",
   "language": "python",
   "name": "python3"
  },
  "language_info": {
   "codemirror_mode": {
    "name": "ipython",
    "version": 3
   },
   "file_extension": ".py",
   "mimetype": "text/x-python",
   "name": "python",
   "nbconvert_exporter": "python",
   "pygments_lexer": "ipython3",
   "version": "3.7.4"
  }
 },
 "nbformat": 4,
 "nbformat_minor": 2
}
